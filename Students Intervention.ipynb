{
 "cells": [
  {
   "cell_type": "markdown",
   "metadata": {},
   "source": [
    "# Student Intervention"
   ]
  },
  {
   "cell_type": "code",
   "execution_count": 9,
   "metadata": {},
   "outputs": [],
   "source": [
    "import pandas as pd\n",
    "import numpy as np\n",
    "import matplotlib.pyplot as plt\n",
    "from time import time\n",
    "import seaborn as sns"
   ]
  },
  {
   "cell_type": "code",
   "execution_count": 10,
   "metadata": {},
   "outputs": [
    {
     "data": {
      "text/html": [
       "<div>\n",
       "<style>\n",
       "    .dataframe thead tr:only-child th {\n",
       "        text-align: right;\n",
       "    }\n",
       "\n",
       "    .dataframe thead th {\n",
       "        text-align: left;\n",
       "    }\n",
       "\n",
       "    .dataframe tbody tr th {\n",
       "        vertical-align: top;\n",
       "    }\n",
       "</style>\n",
       "<table border=\"1\" class=\"dataframe\">\n",
       "  <thead>\n",
       "    <tr style=\"text-align: right;\">\n",
       "      <th></th>\n",
       "      <th>school</th>\n",
       "      <th>sex</th>\n",
       "      <th>age</th>\n",
       "      <th>address</th>\n",
       "      <th>famsize</th>\n",
       "      <th>Pstatus</th>\n",
       "      <th>Medu</th>\n",
       "      <th>Fedu</th>\n",
       "      <th>Mjob</th>\n",
       "      <th>Fjob</th>\n",
       "      <th>...</th>\n",
       "      <th>internet</th>\n",
       "      <th>romantic</th>\n",
       "      <th>famrel</th>\n",
       "      <th>freetime</th>\n",
       "      <th>goout</th>\n",
       "      <th>Dalc</th>\n",
       "      <th>Walc</th>\n",
       "      <th>health</th>\n",
       "      <th>absences</th>\n",
       "      <th>passed</th>\n",
       "    </tr>\n",
       "  </thead>\n",
       "  <tbody>\n",
       "    <tr>\n",
       "      <th>0</th>\n",
       "      <td>GP</td>\n",
       "      <td>F</td>\n",
       "      <td>18</td>\n",
       "      <td>U</td>\n",
       "      <td>GT3</td>\n",
       "      <td>A</td>\n",
       "      <td>4</td>\n",
       "      <td>4</td>\n",
       "      <td>at_home</td>\n",
       "      <td>teacher</td>\n",
       "      <td>...</td>\n",
       "      <td>no</td>\n",
       "      <td>no</td>\n",
       "      <td>4</td>\n",
       "      <td>3</td>\n",
       "      <td>4</td>\n",
       "      <td>1</td>\n",
       "      <td>1</td>\n",
       "      <td>3</td>\n",
       "      <td>6</td>\n",
       "      <td>no</td>\n",
       "    </tr>\n",
       "    <tr>\n",
       "      <th>1</th>\n",
       "      <td>GP</td>\n",
       "      <td>F</td>\n",
       "      <td>17</td>\n",
       "      <td>U</td>\n",
       "      <td>GT3</td>\n",
       "      <td>T</td>\n",
       "      <td>1</td>\n",
       "      <td>1</td>\n",
       "      <td>at_home</td>\n",
       "      <td>other</td>\n",
       "      <td>...</td>\n",
       "      <td>yes</td>\n",
       "      <td>no</td>\n",
       "      <td>5</td>\n",
       "      <td>3</td>\n",
       "      <td>3</td>\n",
       "      <td>1</td>\n",
       "      <td>1</td>\n",
       "      <td>3</td>\n",
       "      <td>4</td>\n",
       "      <td>no</td>\n",
       "    </tr>\n",
       "    <tr>\n",
       "      <th>2</th>\n",
       "      <td>GP</td>\n",
       "      <td>F</td>\n",
       "      <td>15</td>\n",
       "      <td>U</td>\n",
       "      <td>LE3</td>\n",
       "      <td>T</td>\n",
       "      <td>1</td>\n",
       "      <td>1</td>\n",
       "      <td>at_home</td>\n",
       "      <td>other</td>\n",
       "      <td>...</td>\n",
       "      <td>yes</td>\n",
       "      <td>no</td>\n",
       "      <td>4</td>\n",
       "      <td>3</td>\n",
       "      <td>2</td>\n",
       "      <td>2</td>\n",
       "      <td>3</td>\n",
       "      <td>3</td>\n",
       "      <td>10</td>\n",
       "      <td>yes</td>\n",
       "    </tr>\n",
       "  </tbody>\n",
       "</table>\n",
       "<p>3 rows × 31 columns</p>\n",
       "</div>"
      ],
      "text/plain": [
       "  school sex  age address famsize Pstatus  Medu  Fedu     Mjob     Fjob  \\\n",
       "0     GP   F   18       U     GT3       A     4     4  at_home  teacher   \n",
       "1     GP   F   17       U     GT3       T     1     1  at_home    other   \n",
       "2     GP   F   15       U     LE3       T     1     1  at_home    other   \n",
       "\n",
       "   ...   internet romantic  famrel  freetime  goout Dalc Walc health absences  \\\n",
       "0  ...         no       no       4         3      4    1    1      3        6   \n",
       "1  ...        yes       no       5         3      3    1    1      3        4   \n",
       "2  ...        yes       no       4         3      2    2    3      3       10   \n",
       "\n",
       "  passed  \n",
       "0     no  \n",
       "1     no  \n",
       "2    yes  \n",
       "\n",
       "[3 rows x 31 columns]"
      ]
     },
     "execution_count": 10,
     "metadata": {},
     "output_type": "execute_result"
    }
   ],
   "source": [
    "student=pd.read_csv(\"student-data.csv\")\n",
    "student.head(3)"
   ]
  },
  {
   "cell_type": "markdown",
   "metadata": {},
   "source": [
    "## Implementation:Data Exploration"
   ]
  },
  {
   "cell_type": "code",
   "execution_count": 73,
   "metadata": {},
   "outputs": [
    {
     "name": "stdout",
     "output_type": "stream",
     "text": [
      "<class 'pandas.core.frame.DataFrame'>\n",
      "RangeIndex: 395 entries, 0 to 394\n",
      "Data columns (total 31 columns):\n",
      "school        395 non-null object\n",
      "sex           395 non-null object\n",
      "age           395 non-null int64\n",
      "address       395 non-null object\n",
      "famsize       395 non-null object\n",
      "Pstatus       395 non-null object\n",
      "Medu          395 non-null int64\n",
      "Fedu          395 non-null int64\n",
      "Mjob          395 non-null object\n",
      "Fjob          395 non-null object\n",
      "reason        395 non-null object\n",
      "guardian      395 non-null object\n",
      "traveltime    395 non-null int64\n",
      "studytime     395 non-null int64\n",
      "failures      395 non-null int64\n",
      "schoolsup     395 non-null object\n",
      "famsup        395 non-null object\n",
      "paid          395 non-null object\n",
      "activities    395 non-null object\n",
      "nursery       395 non-null object\n",
      "higher        395 non-null object\n",
      "internet      395 non-null object\n",
      "romantic      395 non-null object\n",
      "famrel        395 non-null int64\n",
      "freetime      395 non-null int64\n",
      "goout         395 non-null int64\n",
      "Dalc          395 non-null int64\n",
      "Walc          395 non-null int64\n",
      "health        395 non-null int64\n",
      "absences      395 non-null int64\n",
      "passed        395 non-null object\n",
      "dtypes: int64(13), object(18)\n",
      "memory usage: 95.7+ KB\n"
     ]
    }
   ],
   "source": [
    "student.info()"
   ]
  },
  {
   "cell_type": "code",
   "execution_count": 72,
   "metadata": {},
   "outputs": [
    {
     "name": "stdout",
     "output_type": "stream",
     "text": [
      "the number of students 395\n",
      "the number of features 30\n",
      "the number of students passed the exam 265\n",
      "the number of students failed the exam 130\n",
      "the graduation rate 67.09%\n"
     ]
    },
    {
     "data": {
      "image/png": "[encoded data removed]",
      "text/plain": [
       "<matplotlib.figure.Figure at 0x1e776d75e10>"
      ]
     },
     "metadata": {},
     "output_type": "display_data"
    }
   ],
   "source": [
    "numPass=np.sum(student['passed']=='yes')\n",
    "numFail=np.sum(student['passed']=='no')\n",
    "sizePassed=[numPass,numFail]\n",
    "labels=['Passed','Failed']\n",
    "colors=['lightskyblue','lightcoral']\n",
    "explode=[0.1,0]\n",
    "plt.pie(sizePassed,colors=colors,autopct=\"%1.1f%%\",explode=explode,startangle=90,shadow=True)\n",
    "plt.legend(labels)\n",
    "plt.axis('equal')\n",
    "plt.title(\"$The percentage of student who are passed or not$\")\n",
    "\n",
    "print(\"the number of students {}\".format(len(student)))\n",
    "print(\"the number of features {}\".format(student.shape[1]-1))\n",
    "print(\"the number of students passed the exam {}\".format(numPass))\n",
    "print(\"the number of students failed the exam {}\".format(numFail))\n",
    "print(\"the graduation rate {:.2f}%\".format(numPass/len(student)*100))"
   ]
  },
  {
   "cell_type": "code",
   "execution_count": 74,
   "metadata": {},
   "outputs": [
    {
     "data": {
      "text/plain": [
       "<matplotlib.text.Text at 0x1e7770e2a20>"
      ]
     },
     "execution_count": 74,
     "metadata": {},
     "output_type": "execute_result"
    },
    {
     "data": {
      "image/png": "[encoded data removed]",
      "text/plain": [
       "<matplotlib.figure.Figure at 0x1e776d0db00>"
      ]
     },
     "metadata": {},
     "output_type": "display_data"
    }
   ],
   "source": [
    "# the distribution of gender\n",
    "%matplotlib inline\n",
    "sizeSex=[np.sum(student['sex']=='F'),np.sum(student['sex']=='M')]\n",
    "explode=[0.0,0.1]\n",
    "colors=['yellowgreen','lightskyblue','gold','lightcoral']\n",
    "labels=['F','M']\n",
    "plt.pie(sizeSex,colors=colors,autopct='%1.1f%%',startangle=90,shadow=True)\n",
    "plt.legend(labels)\n",
    "plt.axis('equal')\n",
    "plt.title(\"$the distribution of Sex$\")"
   ]
  },
  {
   "cell_type": "code",
   "execution_count": 91,
   "metadata": {},
   "outputs": [],
   "source": [
    "# to separate the student data into featureset and targetset\n",
    "feature_cols=student.iloc[:,:-1].copy()\n",
    "target_col=student.iloc[:,-1].copy()"
   ]
  },
  {
   "cell_type": "code",
   "execution_count": 110,
   "metadata": {},
   "outputs": [],
   "source": [
    "def featureTransforms(X):\n",
    "    '''Preprocesses the student data and converts non-numeric binary variables into \n",
    "       binary (0/1) variables.Converts categorical variables into dummy variables'''\n",
    "    \n",
    "    # Initialize a dataFrame\n",
    "    output=pd.DataFrame(index=X.index)\n",
    "    for col,colData in X.iteritems():\n",
    "        if colData.dtype==object:\n",
    "            colData=colData.replace(['yes','no'],[1,0])\n",
    "        if colData.dtype==object:\n",
    "            colData=pd.get_dummies(colData,prefix=col)\n",
    "            \n",
    "        output=output.join(colData)\n",
    "    return output\n",
    "output=featureTransforms(feature_cols)"
   ]
  },
  {
   "cell_type": "code",
   "execution_count": 117,
   "metadata": {},
   "outputs": [
    {
     "name": "stdout",
     "output_type": "stream",
     "text": [
      "The training set has 300 samples\n",
      "The testing set has 95 samples\n"
     ]
    }
   ],
   "source": [
    "# Training and testing dataset split\n",
    "from sklearn.model_selection import train_test_split\n",
    "X_train,X_test,y_train,y_test=train_test_split(output,target_col,test_size=95,random_state=42)\n",
    "\n",
    "print(\"The training set has {} samples\".format(len(X_train)))\n",
    "print(\"The testing set has {} samples\".format(len(X_test)))"
   ]
  },
  {
   "cell_type": "markdown",
   "metadata": {},
   "source": [
    "# Training and Evaluation Models"
   ]
  },
  {
   "cell_type": "code",
   "execution_count": 133,
   "metadata": {
    "collapsed": true
   },
   "outputs": [],
   "source": [
    "# setup three methods :\n",
    "# --(1) train_Classifier(clf,X,y)\n",
    "#       return none\n",
    "# --(2) predict_labels(clf,X,y)\n",
    "#       return f1_score\n",
    "# --(3) train_predict(clf,X,y)\n",
    "#       the combination of train_Classifier and predict_labels\n",
    "from sklearn.metrics import f1_score\n",
    "\n",
    "def train_classifier(clf,X,y):\n",
    "    start=time()\n",
    "    clf.fit(X,y)\n",
    "    end=time()\n",
    "    print(\"The model was trained in {:.4f} seconds\".format(end-start))\n",
    "    \n",
    "\n",
    "def predict_label(clf,X,y_true):\n",
    "    start=time()\n",
    "    y_pred=clf.predict(X)\n",
    "    end=time()\n",
    "    print(\"the model makes a prediction in {:.4f} seconds\".format(end-start))\n",
    "    return f1_score(y_true,y_pred,pos_label='yes')\n",
    "\n",
    "def train_predict(clf,X_train,y_true,X_test,y_test):\n",
    "    print(\"Training the classifier using the classifier of {} and based on the dataset of {} \".format(clf.__class__.__name__,len(X_train)))\n",
    "    \n",
    "    train_classifier(clf,X_train,y_true)\n",
    "    \n",
    "    print(\"the f1_score of training set is {:.4f}\".format(predict_label(clf,X_train,y_true)))\n",
    "    print(\"the f1_score of testing set is {:.4f}\".format(predict_label(clf,X_test,y_test)))\n",
    "    "
   ]
  },
  {
   "cell_type": "markdown",
   "metadata": {},
   "source": [
    "# Build the Classifier models"
   ]
  },
  {
   "cell_type": "code",
   "execution_count": 135,
   "metadata": {},
   "outputs": [
    {
     "name": "stdout",
     "output_type": "stream",
     "text": [
      "Training the classifier using the classifier of DecisionTreeClassifier and based on the dataset of 100 \n",
      "The model was trained in 0.0020 seconds\n",
      "the model makes a prediction in 0.0010 seconds\n",
      "the f1_score of training set is 1.0000\n",
      "the model makes a prediction in 0.0010 seconds\n",
      "the f1_score of testing set is 0.6387\n",
      "\n",
      "Training the classifier using the classifier of DecisionTreeClassifier and based on the dataset of 200 \n",
      "The model was trained in 0.0020 seconds\n",
      "the model makes a prediction in 0.0010 seconds\n",
      "the f1_score of training set is 1.0000\n",
      "the model makes a prediction in 0.0010 seconds\n",
      "the f1_score of testing set is 0.7231\n",
      "\n",
      "Training the classifier using the classifier of DecisionTreeClassifier and based on the dataset of 300 \n",
      "The model was trained in 0.0020 seconds\n",
      "the model makes a prediction in 0.0000 seconds\n",
      "the f1_score of training set is 1.0000\n",
      "the model makes a prediction in 0.0000 seconds\n",
      "the f1_score of testing set is 0.6281\n",
      "\n",
      "Training the classifier using the classifier of SVC and based on the dataset of 100 \n",
      "The model was trained in 0.0020 seconds\n",
      "the model makes a prediction in 0.0010 seconds\n",
      "the f1_score of training set is 0.8777\n",
      "the model makes a prediction in 0.0010 seconds\n",
      "the f1_score of testing set is 0.7746\n",
      "\n",
      "Training the classifier using the classifier of SVC and based on the dataset of 200 \n",
      "The model was trained in 0.0030 seconds\n",
      "the model makes a prediction in 0.0020 seconds\n",
      "the f1_score of training set is 0.8679\n",
      "the model makes a prediction in 0.0010 seconds\n",
      "the f1_score of testing set is 0.7815\n",
      "\n",
      "Training the classifier using the classifier of SVC and based on the dataset of 300 \n",
      "The model was trained in 0.0050 seconds\n",
      "the model makes a prediction in 0.0040 seconds\n",
      "the f1_score of training set is 0.8761\n",
      "the model makes a prediction in 0.0010 seconds\n",
      "the f1_score of testing set is 0.7838\n",
      "\n",
      "Training the classifier using the classifier of RandomForestClassifier and based on the dataset of 100 \n",
      "The model was trained in 0.0100 seconds\n",
      "the model makes a prediction in 0.0010 seconds\n",
      "the f1_score of training set is 0.9844\n",
      "the model makes a prediction in 0.0020 seconds\n",
      "the f1_score of testing set is 0.7727\n",
      "\n",
      "Training the classifier using the classifier of RandomForestClassifier and based on the dataset of 200 \n",
      "The model was trained in 0.0130 seconds\n",
      "the model makes a prediction in 0.0000 seconds\n",
      "the f1_score of training set is 0.9964\n",
      "the model makes a prediction in 0.0000 seconds\n",
      "the f1_score of testing set is 0.7259\n",
      "\n",
      "Training the classifier using the classifier of RandomForestClassifier and based on the dataset of 300 \n",
      "The model was trained in 0.0156 seconds\n",
      "the model makes a prediction in 0.0000 seconds\n",
      "the f1_score of training set is 0.9927\n",
      "the model makes a prediction in 0.0000 seconds\n",
      "the f1_score of testing set is 0.7424\n",
      "\n"
     ]
    }
   ],
   "source": [
    "from sklearn.tree import DecisionTreeClassifier\n",
    "from sklearn.svm import SVC\n",
    "from sklearn.ensemble import RandomForestClassifier\n",
    "\n",
    "clf_A=DecisionTreeClassifier(random_state=35)\n",
    "clf_B=SVC(random_state=35)\n",
    "clf_C=RandomForestClassifier(random_state=35)\n",
    "\n",
    "#split the training dataset into three different size\n",
    "X_train_300=X_train\n",
    "y_train_300=y_train\n",
    "\n",
    "X_train_100=X_train[:100]\n",
    "y_train_100=y_train[:100]\n",
    "\n",
    "X_train_200=X_train[:200]\n",
    "y_train_200=y_train[:200]\n",
    "\n",
    "for clf in [clf_A,clf_B,clf_C]:\n",
    "    for train in [(X_train_100,y_train_100),(X_train_200,y_train_200),(X_train_300,y_train_300)]:\n",
    "        train_predict(clf,train[0],train[1],X_test,y_test)\n",
    "        print()      "
   ]
  },
  {
   "cell_type": "markdown",
   "metadata": {},
   "source": [
    "# Choosing the Best Model"
   ]
  },
  {
   "cell_type": "code",
   "execution_count": 136,
   "metadata": {},
   "outputs": [
    {
     "name": "stdout",
     "output_type": "stream",
     "text": [
      "the model makes a prediction in 0.0030 seconds\n",
      "the f1_score on the training dataset of the tuned model 0.862\n",
      "the model makes a prediction in 0.0010 seconds\n",
      "the f1_score on the testing dataset of the tuned model 0.789\n"
     ]
    }
   ],
   "source": [
    "# the implementation of Model Tuning --Select the svm as the best estimator\n",
    "from sklearn.grid_search import GridSearchCV\n",
    "from sklearn.metrics import make_scorer\n",
    "\n",
    "parameters={\"C\":[0.01,0.1,1.0,10.0,100.0],\n",
    "            \"kernel\":['rbf','linear','poly','sigmoid']}\n",
    "\n",
    "clf=SVC(random_state=35)\n",
    "\n",
    "f1_scorer=make_scorer(f1_score,pos_label='yes')\n",
    "\n",
    "grid_clf=GridSearchCV(clf,parameters,scoring=f1_scorer)\n",
    "grid_clf.fit(X_train,y_train)\n",
    "\n",
    "best_clf=grid_clf.best_estimator_\n",
    "\n",
    "print('the f1_score on the training dataset of the tuned model {:.3f}'.format(predict_label(best_clf,X_train,y_train)))\n",
    "print('the f1_score on the testing dataset of the tuned model {:.3f}'.format(predict_label(best_clf,X_test,y_test)))"
   ]
  },
  {
   "cell_type": "code",
   "execution_count": 137,
   "metadata": {},
   "outputs": [
    {
     "data": {
      "text/plain": [
       "{'C': 0.01, 'kernel': 'poly'}"
      ]
     },
     "execution_count": 137,
     "metadata": {},
     "output_type": "execute_result"
    }
   ],
   "source": [
    "grid_clf.best_params_"
   ]
  },
  {
   "cell_type": "code",
   "execution_count": null,
   "metadata": {
    "collapsed": true
   },
   "outputs": [],
   "source": []
  }
 ],
 "metadata": {
  "kernelspec": {
   "display_name": "Python 3",
   "language": "python",
   "name": "python3"
  },
  "language_info": {
   "codemirror_mode": {
    "name": "ipython",
    "version": 3
   },
   "file_extension": ".py",
   "mimetype": "text/x-python",
   "name": "python",
   "nbconvert_exporter": "python",
   "pygments_lexer": "ipython3",
   "version": "3.6.2"
  }
 },
 "nbformat": 4,
 "nbformat_minor": 2
}
